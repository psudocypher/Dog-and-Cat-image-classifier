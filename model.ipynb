{
 "cells": [
  {
   "cell_type": "code",
   "execution_count": 1,
   "metadata": {},
   "outputs": [
    {
     "name": "stdout",
     "output_type": "stream",
     "text": [
      "WARNING:tensorflow:From /usr/local/lib/python3.6/dist-packages/tensorflow/python/ops/resource_variable_ops.py:435: colocate_with (from tensorflow.python.framework.ops) is deprecated and will be removed in a future version.\n",
      "Instructions for updating:\n",
      "Colocations handled automatically by placer.\n",
      "Train on 22451 samples, validate on 2495 samples\n",
      "WARNING:tensorflow:From /usr/local/lib/python3.6/dist-packages/tensorflow/python/ops/math_ops.py:3066: to_int32 (from tensorflow.python.ops.math_ops) is deprecated and will be removed in a future version.\n",
      "Instructions for updating:\n",
      "Use tf.cast instead.\n",
      "Epoch 1/10\n",
      "22451/22451 [==============================] - 163s 7ms/sample - loss: 0.6267 - acc: 0.6389 - val_loss: 0.5817 - val_acc: 0.6938\n",
      "Epoch 2/10\n",
      "22451/22451 [==============================] - 160s 7ms/sample - loss: 0.5242 - acc: 0.7418 - val_loss: 0.5208 - val_acc: 0.7315\n",
      "Epoch 3/10\n",
      "22451/22451 [==============================] - 162s 7ms/sample - loss: 0.4711 - acc: 0.7724 - val_loss: 0.4899 - val_acc: 0.7623\n",
      "Epoch 4/10\n",
      "22451/22451 [==============================] - 228s 10ms/sample - loss: 0.4383 - acc: 0.7965 - val_loss: 0.4699 - val_acc: 0.7752\n",
      "Epoch 5/10\n",
      "22451/22451 [==============================] - 212s 9ms/sample - loss: 0.4054 - acc: 0.8152 - val_loss: 0.4470 - val_acc: 0.7844\n",
      "Epoch 6/10\n",
      "22451/22451 [==============================] - 178s 8ms/sample - loss: 0.3770 - acc: 0.8298 - val_loss: 0.4441 - val_acc: 0.8020\n",
      "Epoch 7/10\n",
      "22451/22451 [==============================] - 168s 7ms/sample - loss: 0.3526 - acc: 0.8448 - val_loss: 0.4245 - val_acc: 0.8052\n",
      "Epoch 8/10\n",
      "22451/22451 [==============================] - 183s 8ms/sample - loss: 0.3259 - acc: 0.8574 - val_loss: 0.4135 - val_acc: 0.8084\n",
      "Epoch 9/10\n",
      "22451/22451 [==============================] - 190s 8ms/sample - loss: 0.3028 - acc: 0.8686 - val_loss: 0.4273 - val_acc: 0.8044\n",
      "Epoch 10/10\n",
      "22451/22451 [==============================] - 188s 8ms/sample - loss: 0.2773 - acc: 0.8817 - val_loss: 0.4111 - val_acc: 0.8152\n"
     ]
    },
    {
     "data": {
      "text/plain": [
       "<tensorflow.python.keras.callbacks.History at 0x7f53549d5630>"
      ]
     },
     "execution_count": 1,
     "metadata": {},
     "output_type": "execute_result"
    }
   ],
   "source": [
    "import tensorflow as tf\n",
    "from tensorflow.keras.models import Sequential\n",
    "from tensorflow.keras.layers import Dense, Dropout, Activation, Flatten, Conv2D, MaxPooling2D\n",
    "import pickle\n",
    "\n",
    "X = pickle.load(open(\"X.pickle\", \"rb\"))\n",
    "y = pickle.load(open(\"y.pickle\", \"rb\"))\n",
    "\n",
    "X = X/255.0\n",
    "\n",
    "model =Sequential()\n",
    "model.add(Conv2D(64, (3,3), input_shape = X.shape[1:]))\n",
    "model.add(Activation(\"relu\"))\n",
    "model.add(MaxPooling2D(pool_size=(2,2)))\n",
    "\n",
    "model.add(Conv2D(64, (3,3), input_shape = X.shape[1:]))\n",
    "model.add(Activation(\"relu\"))\n",
    "model.add(MaxPooling2D(pool_size=(2,2)))\n",
    "\n",
    "model.add(Conv2D(64, (3,3), input_shape = X.shape[1:]))\n",
    "model.add(Activation(\"relu\"))\n",
    "model.add(MaxPooling2D(pool_size=(2,2)))\n",
    "\n",
    "model.add(Flatten())\n",
    "#model.add(Dense(64))\n",
    "\n",
    "model.add(Dense(1))\n",
    "model.add(Activation(\"sigmoid\"))\n",
    "\n",
    "model.compile(loss=\"binary_crossentropy\", optimizer=\"adam\", metrics=['accuracy'])\n",
    "\n",
    "model.fit(X, y, batch_size=32,epochs=10, validation_split=0.1)"
   ]
  },
  {
   "cell_type": "code",
   "execution_count": 2,
   "metadata": {
    "scrolled": false
   },
   "outputs": [],
   "source": [
    "model.save('CNN.model')"
   ]
  },
  {
   "cell_type": "code",
   "execution_count": null,
   "metadata": {},
   "outputs": [],
   "source": []
  }
 ],
 "metadata": {
  "kernelspec": {
   "display_name": "Python 3",
   "language": "python",
   "name": "python3"
  },
  "language_info": {
   "codemirror_mode": {
    "name": "ipython",
    "version": 3
   },
   "file_extension": ".py",
   "mimetype": "text/x-python",
   "name": "python",
   "nbconvert_exporter": "python",
   "pygments_lexer": "ipython3",
   "version": "3.6.7"
  }
 },
 "nbformat": 4,
 "nbformat_minor": 2
}
